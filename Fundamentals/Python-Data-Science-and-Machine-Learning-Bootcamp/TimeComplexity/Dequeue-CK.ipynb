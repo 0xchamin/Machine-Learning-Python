{
 "cells": [
  {
   "cell_type": "code",
   "execution_count": 1,
   "metadata": {
    "collapsed": true
   },
   "outputs": [],
   "source": [
    "class Deque(object):\n",
    "    def __init__(self):\n",
    "        self.items = []\n",
    "        self.front = self.back = 0\n",
    "        size = 0\n",
    "    \n",
    "    def addItem(self, item):\n",
    "        self.items.append(item)\n",
    "        self.back +=1\n",
    "        size += 1\n",
    "    \n",
    "    def removeItemBack(self):\n",
    "        size -= 1\n",
    "        self.back -=1\n",
    "        self.items.pop()\n",
    "        \n",
    "    def removeItemFront(self):\n",
    "        size -=1\n",
    "        front +=1\n",
    "        return self.items[self.front]\n",
    "    \n",
    "    def isEmpty(self):\n",
    "        return self.items == []\n",
    "        "
   ]
  },
  {
   "cell_type": "code",
   "execution_count": null,
   "metadata": {
    "collapsed": true
   },
   "outputs": [],
   "source": []
  }
 ],
 "metadata": {
  "kernelspec": {
   "display_name": "Python 3",
   "language": "python",
   "name": "python3"
  },
  "language_info": {
   "codemirror_mode": {
    "name": "ipython",
    "version": 2
   },
   "file_extension": ".py",
   "mimetype": "text/x-python",
   "name": "python",
   "nbconvert_exporter": "python",
   "pygments_lexer": "ipython2",
   "version": "2.7.13"
  }
 },
 "nbformat": 4,
 "nbformat_minor": 2
}
