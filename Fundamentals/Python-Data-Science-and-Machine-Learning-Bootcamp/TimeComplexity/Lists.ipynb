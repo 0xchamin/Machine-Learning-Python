{
 "cells": [
  {
   "cell_type": "code",
   "execution_count": 1,
   "metadata": {
    "collapsed": true
   },
   "outputs": [],
   "source": [
    "def makeList(n):\n",
    "    return list(range(0,n1))\n"
   ]
  },
  {
   "cell_type": "code",
   "execution_count": 2,
   "metadata": {},
   "outputs": [
    {
     "data": {
      "text/plain": [
       "[0, 1, 2, 3, 4, 5, 6, 7, 8, 9]"
      ]
     },
     "execution_count": 2,
     "metadata": {},
     "output_type": "execute_result"
    }
   ],
   "source": [
    "makeList(10)"
   ]
  },
  {
   "cell_type": "code",
   "execution_count": 3,
   "metadata": {
    "collapsed": true
   },
   "outputs": [],
   "source": [
    "def makeList2(n):\n",
    "    newList = []\n",
    "    for i in xrange(n+1):\n",
    "        newList.append(i)\n",
    "    return newList"
   ]
  },
  {
   "cell_type": "code",
   "execution_count": 4,
   "metadata": {},
   "outputs": [
    {
     "data": {
      "text/plain": [
       "[0, 1, 2, 3, 4, 5, 6, 7, 8, 9, 10]"
      ]
     },
     "execution_count": 4,
     "metadata": {},
     "output_type": "execute_result"
    }
   ],
   "source": [
    "makeList2(10)"
   ]
  },
  {
   "cell_type": "code",
   "execution_count": 6,
   "metadata": {},
   "outputs": [
    {
     "name": "stdout",
     "output_type": "stream",
     "text": [
      "The slowest run took 6.95 times longer than the fastest. This could mean that an intermediate result is being cached.\n",
      "1000000 loops, best of 3: 720 ns per loop\n",
      "The slowest run took 7.86 times longer than the fastest. This could mean that an intermediate result is being cached.\n",
      "1000000 loops, best of 3: 1.4 µs per loop\n"
     ]
    }
   ],
   "source": [
    "%timeit makeList(10)\n",
    "%timeit makeList2(10)"
   ]
  },
  {
   "cell_type": "code",
   "execution_count": 7,
   "metadata": {
    "collapsed": true
   },
   "outputs": [],
   "source": [
    "import sys"
   ]
  },
  {
   "cell_type": "code",
   "execution_count": 13,
   "metadata": {
    "collapsed": true
   },
   "outputs": [],
   "source": [
    "n = 10 #of of elements\n",
    "data = []"
   ]
  },
  {
   "cell_type": "code",
   "execution_count": 14,
   "metadata": {},
   "outputs": [
    {
     "name": "stdout",
     "output_type": "stream",
     "text": [
      "Length:   0; size in bytes:   72\n",
      "Length:   1; size in bytes:  104\n",
      "Length:   2; size in bytes:  104\n",
      "Length:   3; size in bytes:  104\n",
      "Length:   4; size in bytes:  104\n",
      "Length:   5; size in bytes:  136\n",
      "Length:   6; size in bytes:  136\n",
      "Length:   7; size in bytes:  136\n",
      "Length:   8; size in bytes:  136\n",
      "Length:   9; size in bytes:  200\n",
      "Length:  10; size in bytes:  200\n",
      "Length:  11; size in bytes:  200\n",
      "Length:  12; size in bytes:  200\n",
      "Length:  13; size in bytes:  200\n",
      "Length:  14; size in bytes:  200\n",
      "Length:  15; size in bytes:  200\n",
      "Length:  16; size in bytes:  200\n",
      "Length:  17; size in bytes:  272\n",
      "Length:  18; size in bytes:  272\n",
      "Length:  19; size in bytes:  272\n",
      "Length:  20; size in bytes:  272\n",
      "Length:  21; size in bytes:  272\n",
      "Length:  22; size in bytes:  272\n",
      "Length:  23; size in bytes:  272\n",
      "Length:  24; size in bytes:  272\n",
      "Length:  25; size in bytes:  272\n",
      "Length:  26; size in bytes:  352\n",
      "Length:  27; size in bytes:  352\n",
      "Length:  28; size in bytes:  352\n",
      "Length:  29; size in bytes:  352\n",
      "Length:  30; size in bytes:  352\n",
      "Length:  31; size in bytes:  352\n",
      "Length:  32; size in bytes:  352\n",
      "Length:  33; size in bytes:  352\n",
      "Length:  34; size in bytes:  352\n",
      "Length:  35; size in bytes:  352\n",
      "Length:  36; size in bytes:  440\n",
      "Length:  37; size in bytes:  440\n",
      "Length:  38; size in bytes:  440\n",
      "Length:  39; size in bytes:  440\n",
      "Length:  40; size in bytes:  440\n",
      "Length:  41; size in bytes:  440\n",
      "Length:  42; size in bytes:  440\n",
      "Length:  43; size in bytes:  440\n",
      "Length:  44; size in bytes:  440\n",
      "Length:  45; size in bytes:  440\n",
      "Length:  46; size in bytes:  440\n",
      "Length:  47; size in bytes:  536\n",
      "Length:  48; size in bytes:  536\n",
      "Length:  49; size in bytes:  536\n"
     ]
    }
   ],
   "source": [
    "for i in range(50):\n",
    "    a = len(data)\n",
    "    b = sys.getsizeof(data)\n",
    "    print 'Length: {0:3d}; size in bytes: {1:4d}'.format(a,b)\n",
    "    \n",
    "    data.append(n)\n",
    "    "
   ]
  },
  {
   "cell_type": "markdown",
   "metadata": {},
   "source": [
    "<h2>Dynamic Array</h2>"
   ]
  },
  {
   "cell_type": "code",
   "execution_count": 15,
   "metadata": {
    "collapsed": true
   },
   "outputs": [],
   "source": [
    "import ctypes"
   ]
  },
  {
   "cell_type": "code",
   "execution_count": 18,
   "metadata": {},
   "outputs": [],
   "source": [
    "class DynamicArray(object):\n",
    "    \n",
    "    def __init__(self):\n",
    "        self.n = 0 #actual count \n",
    "        self.capacity = 1 #by default accept 1\n",
    "        self.A = self.make_array(self.capacity)\n",
    "    \n",
    "    def __len__(self):\n",
    "        return self.n\n",
    "    \n",
    "    def __getitem__(self,k):\n",
    "        if not 0 <= k < self.n:\n",
    "            return IndexError('K is not of bounds!!!')\n",
    "        \n",
    "        return self.A[k]\n",
    "    \n",
    "    def append(self,ele):\n",
    "        if self.n == self.capacity:\n",
    "            self._resize(2*self.capacity) #2x if capacity not enought\n",
    "            \n",
    "        self.A[self.n] = ele\n",
    "        self.n += 1\n",
    "        \n",
    "    def _resize(self, new_cap):\n",
    "        B = self.make_array(new_cap)\n",
    "        \n",
    "        for k in range(self.n):\n",
    "            B[k] = self.A[k]\n",
    "            \n",
    "        self.A = B\n",
    "        self.capacity = new_cap\n",
    "        \n",
    "        \n",
    "    def make_array(self, new_cap):\n",
    "        return (new_cap * ctypes.py_object)()\n",
    "    \n",
    "    \n",
    "    "
   ]
  },
  {
   "cell_type": "code",
   "execution_count": 19,
   "metadata": {
    "collapsed": true
   },
   "outputs": [],
   "source": [
    "arr = DynamicArray()"
   ]
  },
  {
   "cell_type": "code",
   "execution_count": 20,
   "metadata": {
    "collapsed": true
   },
   "outputs": [],
   "source": [
    "arr.append(1)"
   ]
  },
  {
   "cell_type": "code",
   "execution_count": 21,
   "metadata": {},
   "outputs": [
    {
     "data": {
      "text/plain": [
       "1"
      ]
     },
     "execution_count": 21,
     "metadata": {},
     "output_type": "execute_result"
    }
   ],
   "source": [
    "len(arr)"
   ]
  },
  {
   "cell_type": "code",
   "execution_count": 22,
   "metadata": {
    "collapsed": true
   },
   "outputs": [],
   "source": [
    "arr.append(2)"
   ]
  },
  {
   "cell_type": "code",
   "execution_count": 23,
   "metadata": {},
   "outputs": [
    {
     "data": {
      "text/plain": [
       "2"
      ]
     },
     "execution_count": 23,
     "metadata": {},
     "output_type": "execute_result"
    }
   ],
   "source": [
    "len(arr)"
   ]
  },
  {
   "cell_type": "code",
   "execution_count": 24,
   "metadata": {},
   "outputs": [
    {
     "data": {
      "text/plain": [
       "1"
      ]
     },
     "execution_count": 24,
     "metadata": {},
     "output_type": "execute_result"
    }
   ],
   "source": [
    "arr[0]"
   ]
  },
  {
   "cell_type": "code",
   "execution_count": 27,
   "metadata": {},
   "outputs": [
    {
     "data": {
      "text/plain": [
       "[56, 7, 5, 3, 1]"
      ]
     },
     "execution_count": 27,
     "metadata": {},
     "output_type": "execute_result"
    }
   ],
   "source": [
    "myList = [1,3,5,7,56]\n",
    "list(reversed(myList))"
   ]
  },
  {
   "cell_type": "code",
   "execution_count": 36,
   "metadata": {},
   "outputs": [
    {
     "name": "stdout",
     "output_type": "stream",
     "text": [
      "5\n",
      "4\n",
      "3\n",
      "2\n",
      "1\n",
      "0\n"
     ]
    },
    {
     "data": {
      "text/plain": [
       "[56, 7, 5, 3, 1]"
      ]
     },
     "execution_count": 36,
     "metadata": {},
     "output_type": "execute_result"
    }
   ],
   "source": [
    "reverseArray = []\n",
    "lenth = len(myList)\n",
    "print(lenth)\n",
    "for item in myList:\n",
    "    reverseArray.append(myList[lenth-1])\n",
    "    lenth -= 1\n",
    "    print(lenth)\n",
    "\n",
    "reverseArray\n",
    "    "
   ]
  },
  {
   "cell_type": "code",
   "execution_count": 37,
   "metadata": {},
   "outputs": [
    {
     "data": {
      "text/plain": [
       "[56, 7, 5, 3, 1]"
      ]
     },
     "execution_count": 37,
     "metadata": {},
     "output_type": "execute_result"
    }
   ],
   "source": [
    "myList[::-1]"
   ]
  },
  {
   "cell_type": "code",
   "execution_count": 45,
   "metadata": {
    "collapsed": true
   },
   "outputs": [],
   "source": [
    "string1 = 'public relations'\n",
    "string2 = 'crap built on lies'"
   ]
  },
  {
   "cell_type": "code",
   "execution_count": 46,
   "metadata": {},
   "outputs": [],
   "source": [
    "a=set(string1)"
   ]
  },
  {
   "cell_type": "code",
   "execution_count": 47,
   "metadata": {},
   "outputs": [],
   "source": [
    "b=set(string2)"
   ]
  },
  {
   "cell_type": "code",
   "execution_count": 48,
   "metadata": {
    "scrolled": true
   },
   "outputs": [
    {
     "data": {
      "text/plain": [
       "True"
      ]
     },
     "execution_count": 48,
     "metadata": {},
     "output_type": "execute_result"
    }
   ],
   "source": [
    "a==b"
   ]
  },
  {
   "cell_type": "code",
   "execution_count": 49,
   "metadata": {},
   "outputs": [
    {
     "data": {
      "text/plain": [
       "True"
      ]
     },
     "execution_count": 49,
     "metadata": {},
     "output_type": "execute_result"
    }
   ],
   "source": [
    "def anagram(s1,s2):\n",
    "    if(set(s1) == set(s2)):\n",
    "        return True\n",
    "    else:\n",
    "        return False\n",
    "anagram('public relations', 'crap built on lies')"
   ]
  },
  {
   "cell_type": "code",
   "execution_count": 73,
   "metadata": {},
   "outputs": [
    {
     "name": "stdout",
     "output_type": "stream",
     "text": [
      "(1, 7)\n",
      "(2, 6)\n",
      "(3, 5)\n"
     ]
    }
   ],
   "source": [
    "def pairSum(list1, k):\n",
    "    for item in list1:\n",
    "        if(((k-item) in list1)  & (item != (k-item)) & (item < (k-item))):\n",
    "            print(item, k-item)\n",
    "    \n",
    "m1 = [1,2,3,4,5,6,7,8]\n",
    "pairSum(m1,8)\n",
    "\n"
   ]
  },
  {
   "cell_type": "code",
   "execution_count": 63,
   "metadata": {},
   "outputs": [
    {
     "data": {
      "text/plain": [
       "[1, 2, 3, 4, 5, 6, 7, 8]"
      ]
     },
     "execution_count": 63,
     "metadata": {},
     "output_type": "execute_result"
    }
   ],
   "source": [
    "m1"
   ]
  },
  {
   "cell_type": "code",
   "execution_count": 152,
   "metadata": {},
   "outputs": [],
   "source": [
    "from random import shuffle\n",
    "\n",
    "def missingValue(s1,s2):\n",
    "    a = s1.sort()\n",
    "    b = s2.sort()\n",
    "    print a\n",
    "    print b\n",
    "    \n",
    "\n",
    "set1 = [1,2,3,4,5,6,7,8]\n",
    "aa = set1[:]\n",
    "(shuffle(set1))"
   ]
  },
  {
   "cell_type": "code",
   "execution_count": 153,
   "metadata": {},
   "outputs": [
    {
     "data": {
      "text/plain": [
       "7"
      ]
     },
     "execution_count": 153,
     "metadata": {},
     "output_type": "execute_result"
    }
   ],
   "source": [
    "set1.pop()"
   ]
  },
  {
   "cell_type": "code",
   "execution_count": 154,
   "metadata": {},
   "outputs": [
    {
     "data": {
      "text/plain": [
       "[1, 2, 3, 4, 5, 6, 7, 8]"
      ]
     },
     "execution_count": 154,
     "metadata": {},
     "output_type": "execute_result"
    }
   ],
   "source": [
    "aa"
   ]
  },
  {
   "cell_type": "code",
   "execution_count": 155,
   "metadata": {},
   "outputs": [
    {
     "name": "stdout",
     "output_type": "stream",
     "text": [
      "None\n",
      "None\n"
     ]
    }
   ],
   "source": [
    "missingValue(aa, set1)"
   ]
  },
  {
   "cell_type": "code",
   "execution_count": 158,
   "metadata": {},
   "outputs": [
    {
     "name": "stdout",
     "output_type": "stream",
     "text": [
      "1 1\n",
      "2 2\n",
      "3 3\n",
      "4 4\n",
      "5 5\n",
      "6 6\n",
      "7 8\n"
     ]
    },
    {
     "data": {
      "text/plain": [
       "7"
      ]
     },
     "execution_count": 158,
     "metadata": {},
     "output_type": "execute_result"
    }
   ],
   "source": [
    "def missing(arr1,arr2):\n",
    "    arr1.sort()\n",
    "    arr2.sort()\n",
    "    \n",
    "    for num1,num2 in zip(arr1,arr2):\n",
    "        print num1, num2\n",
    "        if(num1 != num2):\n",
    "            return num1\n",
    "    \n",
    "listA = [1,2,3,4,5,6,7,8]\n",
    "listB = [3,4,5,6,1,2,8]\n",
    "\n",
    "\n",
    "missing(listA,listB)"
   ]
  },
  {
   "cell_type": "code",
   "execution_count": null,
   "metadata": {
    "collapsed": true
   },
   "outputs": [],
   "source": []
  }
 ],
 "metadata": {
  "kernelspec": {
   "display_name": "Python 3",
   "language": "python",
   "name": "python3"
  },
  "language_info": {
   "codemirror_mode": {
    "name": "ipython",
    "version": 2
   },
   "file_extension": ".py",
   "mimetype": "text/x-python",
   "name": "python",
   "nbconvert_exporter": "python",
   "pygments_lexer": "ipython2",
   "version": "2.7.13"
  }
 },
 "nbformat": 4,
 "nbformat_minor": 2
}
