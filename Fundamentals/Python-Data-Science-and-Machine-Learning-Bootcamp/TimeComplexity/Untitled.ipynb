{
 "cells": [
  {
   "cell_type": "code",
   "execution_count": 2,
   "metadata": {
    "collapsed": true
   },
   "outputs": [],
   "source": [
    "class Stack(object):\n",
    "    def __init__(self):\n",
    "        self.items = []\n",
    "        self.back = 0\n",
    "        self.size = 0\n",
    "        \n",
    "    def isEmpty(self):\n",
    "        return self.items == []\n",
    "    \n",
    "    def push(self,item):\n",
    "        self.items.append(item)\n",
    "        self.size +=1\n",
    "        self.back +=1\n",
    "        \n",
    "    def pop(self):\n",
    "        self.back -=1\n",
    "        return self.items.pop()\n",
    "    \n",
    "    def peek(self):\n",
    "        return self.items[back]\n",
    "    \n",
    "    def size(self):\n",
    "        return len(self.items)\n",
    "    \n"
   ]
  },
  {
   "cell_type": "code",
   "execution_count": 3,
   "metadata": {
    "collapsed": true
   },
   "outputs": [],
   "source": [
    "S = Stack()"
   ]
  },
  {
   "cell_type": "code",
   "execution_count": 4,
   "metadata": {},
   "outputs": [
    {
     "data": {
      "text/plain": [
       "True"
      ]
     },
     "execution_count": 4,
     "metadata": {},
     "output_type": "execute_result"
    }
   ],
   "source": [
    "S.isEmpty()"
   ]
  },
  {
   "cell_type": "code",
   "execution_count": 29,
   "metadata": {
    "collapsed": true
   },
   "outputs": [],
   "source": [
    "def checkBalance(sentence):\n",
    "    length = len(sentence)\n",
    "    i = 0\n",
    "    while i< length-1:\n",
    "        print(i)\n",
    "        if(sentence[i] == '{' or sentence[i] == '[' ):\n",
    "            S.push(sentence[i])\n",
    "            print('aa bb')\n",
    "        elif(sentence[i] == '}' or sentence[i] == ']'  ):\n",
    "            temp = S.pop()\n",
    "            print(temp)\n",
    "            if(((temp == '{') and (sentence[i] == '}')) or  ((temp == '[') and (sentence[i] == ']')) ):\n",
    "                print(\"balance\")\n",
    "\n",
    "        i+=1\n",
    "              \n",
    "\n",
    "    "
   ]
  },
  {
   "cell_type": "code",
   "execution_count": 30,
   "metadata": {
    "scrolled": true
   },
   "outputs": [
    {
     "name": "stdout",
     "output_type": "stream",
     "text": [
      "0\n",
      "1\n",
      "2\n",
      "aa bb\n",
      "3\n",
      "4\n",
      "5\n",
      "6\n",
      "7\n",
      "8\n",
      "9\n",
      "aa bb\n",
      "10\n",
      "11\n",
      "12\n",
      "[\n",
      "balance\n",
      "13\n",
      "{\n",
      "balance\n",
      "14\n",
      "aa bb\n"
     ]
    }
   ],
   "source": [
    "checkBalance('TY{dkjlk [wd]}[]')"
   ]
  },
  {
   "cell_type": "code",
   "execution_count": 3,
   "metadata": {
    "collapsed": true
   },
   "outputs": [],
   "source": [
    "def myMethod():\n",
    "    import pandas as pd\n",
    "    pd\n",
    "    \n",
    "myMethod()"
   ]
  },
  {
   "cell_type": "code",
   "execution_count": null,
   "metadata": {
    "collapsed": true
   },
   "outputs": [],
   "source": []
  }
 ],
 "metadata": {
  "kernelspec": {
   "display_name": "Python 3",
   "language": "python",
   "name": "python3"
  },
  "language_info": {
   "codemirror_mode": {
    "name": "ipython",
    "version": 2
   },
   "file_extension": ".py",
   "mimetype": "text/x-python",
   "name": "python",
   "nbconvert_exporter": "python",
   "pygments_lexer": "ipython2",
   "version": "2.7.13"
  }
 },
 "nbformat": 4,
 "nbformat_minor": 2
}
