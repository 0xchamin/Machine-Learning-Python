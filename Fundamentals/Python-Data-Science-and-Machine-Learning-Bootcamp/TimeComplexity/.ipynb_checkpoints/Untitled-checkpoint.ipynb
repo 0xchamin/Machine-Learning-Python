{
 "cells": [
  {
   "cell_type": "code",
   "execution_count": null,
   "metadata": {
    "collapsed": true
   },
   "outputs": [],
   "source": [
    "class Stack(object):\n",
    "    def __init__(self):\n",
    "        self.items = []\n",
    "        self.back = 0\n",
    "        self.size = 0\n",
    "        \n",
    "    def isEmpty(self):\n",
    "        return self.items == []\n",
    "    \n",
    "    def push(self,item):\n",
    "        self.items.append(item)\n",
    "        self.size +=1\n",
    "        self.back +=1\n",
    "        \n",
    "    def pop(self):\n",
    "        self.back -=1\n",
    "        return self.items.pop()\n",
    "    \n",
    "    def peek(self):\n",
    "        return self.items[back]\n",
    "    \n",
    "    def size(self):\n",
    "        return len(self.items)\n",
    "    \n",
    "# def checkBalance(sentence):\n",
    "#     length = len(sentence)\n",
    "#     i = 0\n",
    "#     while i< length-1:\n",
    "#         if(sentence[i] == '{' | sentence[i] == '[' |sentence[i] == '(' )\n",
    "\n",
    "# sentence = 'atin( {[ { ser, t})'"
   ]
  }
 ],
 "metadata": {
  "kernelspec": {
   "display_name": "Python 3",
   "language": "python",
   "name": "python3"
  },
  "language_info": {
   "codemirror_mode": {
    "name": "ipython",
    "version": 2
   },
   "file_extension": ".py",
   "mimetype": "text/x-python",
   "name": "python",
   "nbconvert_exporter": "python",
   "pygments_lexer": "ipython2",
   "version": "2.7.13"
  }
 },
 "nbformat": 4,
 "nbformat_minor": 2
}
