{
 "cells": [
  {
   "cell_type": "code",
   "execution_count": 1,
   "metadata": {},
   "outputs": [
    {
     "name": "stdout",
     "output_type": "stream",
     "text": [
      "Requirement already satisfied: mglearn in /home/coolck/anaconda3/envs/fastai/lib/python3.6/site-packages\n",
      "Requirement already satisfied: cycler in /home/coolck/.local/lib/python3.6/site-packages (from mglearn)\n",
      "Requirement already satisfied: matplotlib in /home/coolck/.local/lib/python3.6/site-packages (from mglearn)\n",
      "Requirement already satisfied: pillow in /home/coolck/.local/lib/python3.6/site-packages (from mglearn)\n",
      "Requirement already satisfied: scikit-learn in /home/coolck/.local/lib/python3.6/site-packages (from mglearn)\n",
      "Requirement already satisfied: pandas in /home/coolck/.local/lib/python3.6/site-packages (from mglearn)\n",
      "Requirement already satisfied: numpy in /home/coolck/.local/lib/python3.6/site-packages (from mglearn)\n",
      "Requirement already satisfied: six in /home/coolck/.local/lib/python3.6/site-packages (from cycler->mglearn)\n",
      "Requirement already satisfied: pytz in /home/coolck/.local/lib/python3.6/site-packages (from matplotlib->mglearn)\n",
      "Requirement already satisfied: pyparsing!=2.0.4,!=2.1.2,!=2.1.6,>=2.0.1 in /home/coolck/.local/lib/python3.6/site-packages (from matplotlib->mglearn)\n",
      "Requirement already satisfied: python-dateutil>=2.1 in /home/coolck/.local/lib/python3.6/site-packages (from matplotlib->mglearn)\n",
      "\u001b[33mYou are using pip version 9.0.1, however version 10.0.1 is available.\n",
      "You should consider upgrading via the 'pip install --upgrade pip' command.\u001b[0m\n"
     ]
    }
   ],
   "source": [
    "!pip install mglearn"
   ]
  },
  {
   "cell_type": "code",
   "execution_count": 2,
   "metadata": {},
   "outputs": [],
   "source": [
    "import matplotlib.pyplot as plt\n",
    "import pandas as pd\n",
    "import numpy as np\n",
    "import mglearn"
   ]
  },
  {
   "cell_type": "code",
   "execution_count": null,
   "metadata": {},
   "outputs": [],
   "source": []
  }
 ],
 "metadata": {
  "kernelspec": {
   "display_name": "Python 3",
   "language": "python",
   "name": "python3"
  },
  "language_info": {
   "codemirror_mode": {
    "name": "ipython",
    "version": 3
   },
   "file_extension": ".py",
   "mimetype": "text/x-python",
   "name": "python",
   "nbconvert_exporter": "python",
   "pygments_lexer": "ipython3",
   "version": "3.6.4"
  }
 },
 "nbformat": 4,
 "nbformat_minor": 2
}
