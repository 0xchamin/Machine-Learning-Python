{
 "cells": [
  {
   "cell_type": "code",
   "execution_count": 1,
   "metadata": {
    "collapsed": false
   },
   "outputs": [
    {
     "name": "stdout",
     "output_type": "stream",
     "text": [
      "a.ipynb\n",
      "HOCAMOSE.html\n",
      "HOCAMOSE_files\n",
      "readfile.ipynb\n",
      "temp.csv\n",
      "WeatherData.txt\n"
     ]
    }
   ],
   "source": [
    "!ls"
   ]
  },
  {
   "cell_type": "code",
   "execution_count": 13,
   "metadata": {
    "collapsed": false
   },
   "outputs": [
    {
     "name": "stdout",
     "output_type": "stream",
     "text": [
      "131400\n"
     ]
    }
   ],
   "source": [
    "\n",
    "### Converting txt file to csv file.\n",
    "\n",
    "# open and read the txt file.\n",
    "text_file = open(\"WeatherData.txt\", \"r\")\n",
    "\n",
    "# Read each line of text file and save it in lines. \n",
    "lines = text_file.readlines()\n",
    "\n",
    "# print lines\n",
    "print(len(lines))\n",
    "text_file.close()"
   ]
  },
  {
   "cell_type": "code",
   "execution_count": 21,
   "metadata": {
    "collapsed": true
   },
   "outputs": [],
   "source": [
    "import csv\n",
    "\n",
    "# Make a csv file.\n",
    "mycsv = csv.writer(open('out2.csv', 'wb'))\n"
   ]
  },
  {
   "cell_type": "code",
   "execution_count": 22,
   "metadata": {
    "collapsed": false
   },
   "outputs": [
    {
     "ename": "TypeError",
     "evalue": "a bytes-like object is required, not 'str'",
     "output_type": "error",
     "traceback": [
      "\u001b[0;31m---------------------------------------------------------------------------\u001b[0m",
      "\u001b[0;31mTypeError\u001b[0m                                 Traceback (most recent call last)",
      "\u001b[0;32m<ipython-input-22-640bc969f600>\u001b[0m in \u001b[0;36m<module>\u001b[0;34m()\u001b[0m\n\u001b[0;32m----> 1\u001b[0;31m \u001b[0mmycsv\u001b[0m\u001b[1;33m.\u001b[0m\u001b[0mwriterow\u001b[0m\u001b[1;33m(\u001b[0m\u001b[1;33m[\u001b[0m\u001b[1;34m'months'\u001b[0m\u001b[1;33m,\u001b[0m \u001b[1;34m'hours'\u001b[0m\u001b[1;33m,\u001b[0m \u001b[1;34m'SData'\u001b[0m\u001b[1;33m,\u001b[0m \u001b[1;34m'TempData'\u001b[0m\u001b[1;33m]\u001b[0m\u001b[1;33m)\u001b[0m\u001b[1;33m\u001b[0m\u001b[0m\n\u001b[0m",
      "\u001b[0;31mTypeError\u001b[0m: a bytes-like object is required, not 'str'"
     ]
    }
   ],
   "source": [
    "mycsv.writerow(['months', 'hours', 'SData', 'TempData'])"
   ]
  },
  {
   "cell_type": "code",
   "execution_count": 23,
   "metadata": {
    "collapsed": false
   },
   "outputs": [],
   "source": [
    "temp = lines[1:10]"
   ]
  },
  {
   "cell_type": "code",
   "execution_count": 24,
   "metadata": {
    "collapsed": true
   },
   "outputs": [],
   "source": [
    "header = ['months', 'hours', 'SData', 'TempData']\n",
    "some_list = temp\n",
    "with open('out.csv', 'wt') as file:\n",
    "    writer = csv.writer(file, delimiter=',')\n",
    "    writer.writerow(i for i in header)\n",
    "    for j in some_list:\n",
    "        writer.writerow(j)\n",
    "    "
   ]
  },
  {
   "cell_type": "code",
   "execution_count": null,
   "metadata": {
    "collapsed": true
   },
   "outputs": [],
   "source": [
    "import csv\n",
    "\n",
    "txt_file = r\"WeatherData.txt\"\n",
    "csv_file = r\"results.csv\"\n",
    "\n",
    "with open(txt_file, \"r\") as in_text:\n",
    "    in_reader = csv.reader(in_text, delimiter = '\\t')\n",
    "    with open(csv_file, \"w\") as out_csv:\n",
    "        out_writer = csv.writer(out_csv, newline='')\n",
    "        for row in in_reader:\n",
    "            out_writer.writerow(row)"
   ]
  }
 ],
 "metadata": {
  "kernelspec": {
   "display_name": "Python 3",
   "language": "python",
   "name": "python3"
  },
  "language_info": {
   "codemirror_mode": {
    "name": "ipython",
    "version": 3
   },
   "file_extension": ".py",
   "mimetype": "text/x-python",
   "name": "python",
   "nbconvert_exporter": "python",
   "pygments_lexer": "ipython3",
   "version": "3.6.6"
  }
 },
 "nbformat": 4,
 "nbformat_minor": 2
}
